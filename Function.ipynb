{
 "cells": [
  {
   "cell_type": "markdown",
   "id": "55c6d232",
   "metadata": {},
   "source": [
    "Functions:\n",
    "\n",
    "Function is a block of code that can be reused in programs."
   ]
  },
  {
   "cell_type": "markdown",
   "id": "78610c68",
   "metadata": {},
   "source": [
    "### Factorial of a number"
   ]
  },
  {
   "cell_type": "markdown",
   "id": "16339f6c",
   "metadata": {},
   "source": [
    "Factorial of a number is product of all positive integers less than or\n",
    "equal to the given number"
   ]
  },
  {
   "cell_type": "markdown",
   "id": "17fd812b",
   "metadata": {},
   "source": [
    "Factorial of 5 = 5 x 4 x 3 x 2 x 1 = 120"
   ]
  },
  {
   "cell_type": "code",
   "execution_count": 3,
   "id": "7ab7fde9",
   "metadata": {},
   "outputs": [
    {
     "name": "stdout",
     "output_type": "stream",
     "text": [
      "Enter a number to find its factorial : 10\n",
      "The factorial of  10 is 3628800\n"
     ]
    }
   ],
   "source": [
    "number = int(input('Enter a number to find its factorial : '))\n",
    "\n",
    "factorial = 1\n",
    "\n",
    "if number  == 0:\n",
    "    print('The factorial of 0 is 1')\n",
    "else:\n",
    "    for i in range(1, number + 1):   #range(1, 6) ---> 1,2,3,4,5\n",
    "        factorial = factorial*i\n",
    "    print('The factorial of ',number,'is',factorial)"
   ]
  },
  {
   "cell_type": "markdown",
   "id": "9f1a88b7",
   "metadata": {},
   "source": [
    "### Factorial Function"
   ]
  },
  {
   "cell_type": "code",
   "execution_count": 9,
   "id": "61af53cd",
   "metadata": {},
   "outputs": [],
   "source": [
    "def factorial_value(num):   # this is called as function\n",
    "    factorial = 1\n",
    "    \n",
    "    if num == 0:\n",
    "        return factorial\n",
    "    \n",
    "    else:\n",
    "        for i in range(1,num+1):\n",
    "            factorial = factorial*i\n",
    "        return factorial       "
   ]
  },
  {
   "cell_type": "code",
   "execution_count": 10,
   "id": "32a975cc",
   "metadata": {},
   "outputs": [
    {
     "name": "stdout",
     "output_type": "stream",
     "text": [
      "120\n"
     ]
    }
   ],
   "source": [
    "print(factorial_value(5))"
   ]
  },
  {
   "cell_type": "code",
   "execution_count": 11,
   "id": "df3ceada",
   "metadata": {},
   "outputs": [
    {
     "name": "stdout",
     "output_type": "stream",
     "text": [
      "3628800\n"
     ]
    }
   ],
   "source": [
    "print(factorial_value(10))"
   ]
  },
  {
   "cell_type": "code",
   "execution_count": 12,
   "id": "bb26a614",
   "metadata": {},
   "outputs": [
    {
     "name": "stdout",
     "output_type": "stream",
     "text": [
      "720\n"
     ]
    }
   ],
   "source": [
    "print(factorial_value(6))"
   ]
  },
  {
   "cell_type": "code",
   "execution_count": null,
   "id": "53775204",
   "metadata": {},
   "outputs": [],
   "source": []
  }
 ],
 "metadata": {
  "kernelspec": {
   "display_name": "Python 3 (ipykernel)",
   "language": "python",
   "name": "python3"
  },
  "language_info": {
   "codemirror_mode": {
    "name": "ipython",
    "version": 3
   },
   "file_extension": ".py",
   "mimetype": "text/x-python",
   "name": "python",
   "nbconvert_exporter": "python",
   "pygments_lexer": "ipython3",
   "version": "3.9.12"
  }
 },
 "nbformat": 4,
 "nbformat_minor": 5
}
