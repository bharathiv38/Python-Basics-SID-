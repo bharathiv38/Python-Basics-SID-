{
 "cells": [
  {
   "cell_type": "code",
   "execution_count": 1,
   "id": "58455dc5",
   "metadata": {},
   "outputs": [
    {
     "name": "stdout",
     "output_type": "stream",
     "text": [
      "b is greater\n"
     ]
    }
   ],
   "source": [
    "#simple if else statement\n",
    "\n",
    "a = 30\n",
    "b = 50\n",
    "\n",
    "if a>b:\n",
    "    print(\"a is greater than b\")\n",
    "else:\n",
    "    print(\"b is greater\")"
   ]
  },
  {
   "cell_type": "code",
   "execution_count": 3,
   "id": "678bf8fa",
   "metadata": {},
   "outputs": [
    {
     "name": "stdout",
     "output_type": "stream",
     "text": [
      "Enter the first number : 120\n",
      "Entet the second number : 100\n",
      "First number is greater\n"
     ]
    }
   ],
   "source": [
    "a = int(input('Enter the first number : '))\n",
    "b = int(input(\"Entet the second number : \"))\n",
    "\n",
    "if a>b:\n",
    "    print(\"First number is greater\")\n",
    "else:\n",
    "    print(\"second number is greater\")"
   ]
  },
  {
   "cell_type": "markdown",
   "id": "ca9ac3f0",
   "metadata": {},
   "source": [
    "### If elif else statement"
   ]
  },
  {
   "cell_type": "code",
   "execution_count": 4,
   "id": "107e75f6",
   "metadata": {},
   "outputs": [
    {
     "name": "stdout",
     "output_type": "stream",
     "text": [
      "C is greatest number\n"
     ]
    }
   ],
   "source": [
    "a =15\n",
    "b =26\n",
    "c= 30\n",
    "\n",
    "if b<a>c:\n",
    "    print('a is the greatest number')\n",
    "elif b<a>c:\n",
    "    print('b is the greatest number')\n",
    "    \n",
    "else:\n",
    "    print('C is greatest number')"
   ]
  },
  {
   "cell_type": "markdown",
   "id": "60af2d64",
   "metadata": {},
   "source": [
    "#### Nested if statement"
   ]
  },
  {
   "cell_type": "code",
   "execution_count": 5,
   "id": "40217f04",
   "metadata": {},
   "outputs": [
    {
     "name": "stdout",
     "output_type": "stream",
     "text": [
      "c is the greatest number\n"
     ]
    }
   ],
   "source": [
    "a = 20\n",
    "b = 40\n",
    "c = 60\n",
    "\n",
    "if(a>b):\n",
    "    if (a>c):\n",
    "        print('a is greatest number')\n",
    "    else:\n",
    "        print('c is greatest number')\n",
    "else:\n",
    "    if (b>c):\n",
    "        print(\"b is the greatest number\")\n",
    "    else:\n",
    "        print(\"c is the greatest number\")"
   ]
  },
  {
   "cell_type": "code",
   "execution_count": null,
   "id": "d7d85498",
   "metadata": {},
   "outputs": [],
   "source": []
  }
 ],
 "metadata": {
  "kernelspec": {
   "display_name": "Python 3 (ipykernel)",
   "language": "python",
   "name": "python3"
  },
  "language_info": {
   "codemirror_mode": {
    "name": "ipython",
    "version": 3
   },
   "file_extension": ".py",
   "mimetype": "text/x-python",
   "name": "python",
   "nbconvert_exporter": "python",
   "pygments_lexer": "ipython3",
   "version": "3.9.12"
  }
 },
 "nbformat": 4,
 "nbformat_minor": 5
}
