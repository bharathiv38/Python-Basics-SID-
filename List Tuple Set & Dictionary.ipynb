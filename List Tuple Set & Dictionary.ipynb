{
 "cells": [
  {
   "cell_type": "markdown",
   "id": "121b769e",
   "metadata": {},
   "source": [
    "Types of Objects in Python\n",
    "\n",
    "1. Immutable\n",
    "\n",
    "2. Mutable\n"
   ]
  },
  {
   "cell_type": "markdown",
   "id": "40755519",
   "metadata": {},
   "source": [
    "Immutable Objects\n",
    "\n",
    "1. int\n",
    "\n",
    "2. float\n",
    "\n",
    "3. string\n",
    "\n",
    "4. bool\n",
    "\n",
    "5. tuple"
   ]
  },
  {
   "cell_type": "markdown",
   "id": "1a92ff54",
   "metadata": {},
   "source": [
    "Mutable Objects\n",
    "\n",
    "1. List\n",
    "\n",
    "2. Set\n",
    "\n",
    "3. Dictionary"
   ]
  },
  {
   "cell_type": "markdown",
   "id": "810dfff4",
   "metadata": {},
   "source": [
    "### List"
   ]
  },
  {
   "cell_type": "code",
   "execution_count": 1,
   "id": "208e82d3",
   "metadata": {},
   "outputs": [
    {
     "data": {
      "text/plain": [
       "list"
      ]
     },
     "execution_count": 1,
     "metadata": {},
     "output_type": "execute_result"
    }
   ],
   "source": [
    "l = []\n",
    "type(l)"
   ]
  },
  {
   "cell_type": "code",
   "execution_count": 2,
   "id": "840d722c",
   "metadata": {},
   "outputs": [
    {
     "name": "stdout",
     "output_type": "stream",
     "text": [
      "[1, 3, 5, 6]\n"
     ]
    }
   ],
   "source": [
    "l = [1,3,5,6]\n",
    "print(l)"
   ]
  },
  {
   "cell_type": "code",
   "execution_count": 3,
   "id": "64343e1b",
   "metadata": {},
   "outputs": [
    {
     "name": "stdout",
     "output_type": "stream",
     "text": [
      "[1, 9.5, 'ML']\n"
     ]
    }
   ],
   "source": [
    "l = [1,9.5,'ML']\n",
    "print(l)"
   ]
  },
  {
   "cell_type": "code",
   "execution_count": 4,
   "id": "0bae1ad0",
   "metadata": {},
   "outputs": [
    {
     "name": "stdout",
     "output_type": "stream",
     "text": [
      "[1, 9.5, 'ML', True]\n"
     ]
    }
   ],
   "source": [
    "l = [1,9.5,'ML',True]\n",
    "print(l)"
   ]
  },
  {
   "cell_type": "code",
   "execution_count": 6,
   "id": "1dd50f13",
   "metadata": {},
   "outputs": [],
   "source": [
    "# add elements to a list\n",
    "fruits = ['apple','banana','grapes','Orange']\n",
    "fruits.append('papaya')"
   ]
  },
  {
   "cell_type": "code",
   "execution_count": 7,
   "id": "e6001b35",
   "metadata": {},
   "outputs": [
    {
     "name": "stdout",
     "output_type": "stream",
     "text": [
      "['apple', 'banana', 'grapes', 'Orange', 'papaya']\n"
     ]
    }
   ],
   "source": [
    "print(fruits)"
   ]
  },
  {
   "cell_type": "code",
   "execution_count": 8,
   "id": "801b02a8",
   "metadata": {},
   "outputs": [
    {
     "data": {
      "text/plain": [
       "'apple'"
      ]
     },
     "execution_count": 8,
     "metadata": {},
     "output_type": "execute_result"
    }
   ],
   "source": [
    "fruits[0]"
   ]
  },
  {
   "cell_type": "code",
   "execution_count": 9,
   "id": "5b310c9f",
   "metadata": {},
   "outputs": [
    {
     "data": {
      "text/plain": [
       "'Orange'"
      ]
     },
     "execution_count": 9,
     "metadata": {},
     "output_type": "execute_result"
    }
   ],
   "source": [
    "fruits[3]"
   ]
  },
  {
   "cell_type": "code",
   "execution_count": 10,
   "id": "19a60598",
   "metadata": {},
   "outputs": [
    {
     "data": {
      "text/plain": [
       "'ple'"
      ]
     },
     "execution_count": 10,
     "metadata": {},
     "output_type": "execute_result"
    }
   ],
   "source": [
    "fruits[0][2:5]"
   ]
  },
  {
   "cell_type": "code",
   "execution_count": 11,
   "id": "cfd6664f",
   "metadata": {},
   "outputs": [
    {
     "name": "stdout",
     "output_type": "stream",
     "text": [
      "['apple', 'banana', 'grapes', 'Orange', 'apple']\n"
     ]
    }
   ],
   "source": [
    "#list allows duplicate values\n",
    "fruits = ['apple','banana','grapes','Orange','apple']\n",
    "print(fruits)"
   ]
  },
  {
   "cell_type": "code",
   "execution_count": 12,
   "id": "6e08f7a1",
   "metadata": {},
   "outputs": [
    {
     "name": "stdout",
     "output_type": "stream",
     "text": [
      "5\n"
     ]
    }
   ],
   "source": [
    "print(len(fruits))"
   ]
  },
  {
   "cell_type": "code",
   "execution_count": 1,
   "id": "2ae65697",
   "metadata": {},
   "outputs": [
    {
     "name": "stdout",
     "output_type": "stream",
     "text": [
      "['apple', 'banana', 'grapes', 'Orange', 'apple']\n"
     ]
    }
   ],
   "source": [
    "#deleting an item in list\n",
    "fruits = ['apple','banana','grapes','Orange','apple']\n",
    "print(fruits)"
   ]
  },
  {
   "cell_type": "code",
   "execution_count": 2,
   "id": "c5d49a9a",
   "metadata": {},
   "outputs": [],
   "source": [
    "del fruits[4]"
   ]
  },
  {
   "cell_type": "code",
   "execution_count": 3,
   "id": "d3c2c783",
   "metadata": {},
   "outputs": [
    {
     "name": "stdout",
     "output_type": "stream",
     "text": [
      "['apple', 'banana', 'grapes', 'Orange']\n"
     ]
    }
   ],
   "source": [
    "print(fruits)"
   ]
  },
  {
   "cell_type": "code",
   "execution_count": 4,
   "id": "8789769c",
   "metadata": {},
   "outputs": [
    {
     "name": "stdout",
     "output_type": "stream",
     "text": [
      "[1, 2, 3, 4, 5, 6, 7, 8, 9, 10]\n"
     ]
    }
   ],
   "source": [
    "#joining two list\n",
    "list_1 = [1,2,3,4,5]\n",
    "list_2 = [6,7,8,9,10]\n",
    "\n",
    "list_3 = list_1 + list_2\n",
    "print(list_3)"
   ]
  },
  {
   "cell_type": "markdown",
   "id": "f99f9c44",
   "metadata": {},
   "source": [
    "## Tuple"
   ]
  },
  {
   "cell_type": "code",
   "execution_count": 7,
   "id": "11fdce73",
   "metadata": {},
   "outputs": [
    {
     "name": "stdout",
     "output_type": "stream",
     "text": [
      "()\n"
     ]
    }
   ],
   "source": [
    "t = ()\n",
    "print(t)"
   ]
  },
  {
   "cell_type": "code",
   "execution_count": 8,
   "id": "97cad107",
   "metadata": {},
   "outputs": [
    {
     "data": {
      "text/plain": [
       "tuple"
      ]
     },
     "execution_count": 8,
     "metadata": {},
     "output_type": "execute_result"
    }
   ],
   "source": [
    "type(t)"
   ]
  },
  {
   "cell_type": "code",
   "execution_count": 9,
   "id": "be9f37e2",
   "metadata": {},
   "outputs": [
    {
     "name": "stdout",
     "output_type": "stream",
     "text": [
      "(1, 2.5, 'Machine Learning', True)\n"
     ]
    }
   ],
   "source": [
    "#multiple data types in tuple\n",
    "t = (1,2.5,\"Machine Learning\",True)\n",
    "print(t)"
   ]
  },
  {
   "cell_type": "code",
   "execution_count": 12,
   "id": "8e21487e",
   "metadata": {},
   "outputs": [
    {
     "name": "stdout",
     "output_type": "stream",
     "text": [
      "['froots', 1, 2, 'ten']\n",
      "('froots', 1, 2, 'ten')\n"
     ]
    }
   ],
   "source": [
    "#converting a list into a tuple\n",
    "my_list = ['froots',1,2,\"ten\"]\n",
    "print(my_list)\n",
    "\n",
    "my_tuple = tuple(my_list)\n",
    "print(my_tuple)"
   ]
  },
  {
   "cell_type": "code",
   "execution_count": 18,
   "id": "b24cf988",
   "metadata": {},
   "outputs": [],
   "source": [
    "fruits = ('apple','banana','grapes','Orange','apple')"
   ]
  },
  {
   "cell_type": "code",
   "execution_count": 19,
   "id": "ff34142d",
   "metadata": {},
   "outputs": [
    {
     "data": {
      "text/plain": [
       "'apple'"
      ]
     },
     "execution_count": 19,
     "metadata": {},
     "output_type": "execute_result"
    }
   ],
   "source": [
    "fruits[0]"
   ]
  },
  {
   "cell_type": "code",
   "execution_count": 20,
   "id": "36318d5c",
   "metadata": {},
   "outputs": [
    {
     "name": "stdout",
     "output_type": "stream",
     "text": [
      "apple\n"
     ]
    }
   ],
   "source": [
    "print(fruits[0])"
   ]
  },
  {
   "cell_type": "markdown",
   "id": "57189c83",
   "metadata": {},
   "source": [
    "lists --> immutable"
   ]
  },
  {
   "cell_type": "code",
   "execution_count": 21,
   "id": "de6e70de",
   "metadata": {},
   "outputs": [
    {
     "ename": "AttributeError",
     "evalue": "'tuple' object has no attribute 'append'",
     "output_type": "error",
     "traceback": [
      "\u001b[1;31m---------------------------------------------------------------------------\u001b[0m",
      "\u001b[1;31mAttributeError\u001b[0m                            Traceback (most recent call last)",
      "Input \u001b[1;32mIn [21]\u001b[0m, in \u001b[0;36m<cell line: 1>\u001b[1;34m()\u001b[0m\n\u001b[1;32m----> 1\u001b[0m \u001b[43mfruits\u001b[49m\u001b[38;5;241;43m.\u001b[39;49m\u001b[43mappend\u001b[49m(\u001b[38;5;124m\"\u001b[39m\u001b[38;5;124mapple\u001b[39m\u001b[38;5;124m\"\u001b[39m)\n",
      "\u001b[1;31mAttributeError\u001b[0m: 'tuple' object has no attribute 'append'"
     ]
    }
   ],
   "source": [
    "fruits.append(\"apple\")"
   ]
  },
  {
   "cell_type": "markdown",
   "id": "edb4fa41",
   "metadata": {},
   "source": [
    "## Sets"
   ]
  },
  {
   "cell_type": "code",
   "execution_count": 25,
   "id": "87e1fe4f",
   "metadata": {},
   "outputs": [
    {
     "name": "stdout",
     "output_type": "stream",
     "text": [
      "set()\n"
     ]
    },
    {
     "data": {
      "text/plain": [
       "set"
      ]
     },
     "execution_count": 25,
     "metadata": {},
     "output_type": "execute_result"
    }
   ],
   "source": [
    "my_set = set()\n",
    "print(my_set)\n",
    "type(my_set)"
   ]
  },
  {
   "cell_type": "markdown",
   "id": "6bb6b0db",
   "metadata": {},
   "source": [
    "set ---> not support indexing"
   ]
  },
  {
   "cell_type": "code",
   "execution_count": 27,
   "id": "719e4f41",
   "metadata": {},
   "outputs": [
    {
     "ename": "TypeError",
     "evalue": "'set' object is not subscriptable",
     "output_type": "error",
     "traceback": [
      "\u001b[1;31m---------------------------------------------------------------------------\u001b[0m",
      "\u001b[1;31mTypeError\u001b[0m                                 Traceback (most recent call last)",
      "Input \u001b[1;32mIn [27]\u001b[0m, in \u001b[0;36m<cell line: 2>\u001b[1;34m()\u001b[0m\n\u001b[0;32m      1\u001b[0m my_set \u001b[38;5;241m=\u001b[39m {\u001b[38;5;241m1\u001b[39m,\u001b[38;5;241m2\u001b[39m,\u001b[38;5;241m3\u001b[39m,\u001b[38;5;241m4\u001b[39m}\n\u001b[1;32m----> 2\u001b[0m \u001b[38;5;28mprint\u001b[39m(\u001b[43mmy_set\u001b[49m\u001b[43m[\u001b[49m\u001b[38;5;241;43m0\u001b[39;49m\u001b[43m]\u001b[49m)\n",
      "\u001b[1;31mTypeError\u001b[0m: 'set' object is not subscriptable"
     ]
    }
   ],
   "source": [
    "my_set = {1,2,3,4}\n",
    "print(my_set[0])"
   ]
  },
  {
   "cell_type": "code",
   "execution_count": 28,
   "id": "e1aa65d9",
   "metadata": {},
   "outputs": [
    {
     "name": "stdout",
     "output_type": "stream",
     "text": [
      "{8, 5, 6, 7}\n"
     ]
    }
   ],
   "source": [
    "#convert list to a set\n",
    "my_list =[5,6,7,8]\n",
    "\n",
    "x = set(my_list)\n",
    "print(x)"
   ]
  },
  {
   "cell_type": "markdown",
   "id": "f6096ece",
   "metadata": {},
   "source": [
    "set ---> does not allow duplicate value"
   ]
  },
  {
   "cell_type": "code",
   "execution_count": 29,
   "id": "b0b488ff",
   "metadata": {},
   "outputs": [
    {
     "name": "stdout",
     "output_type": "stream",
     "text": [
      "{1, 2, 4, 5, 6, 7}\n"
     ]
    }
   ],
   "source": [
    "set_2 ={4,5,6,7,1,4,5,2}\n",
    "print(set_2)"
   ]
  },
  {
   "cell_type": "markdown",
   "id": "b7b43d01",
   "metadata": {},
   "source": [
    "## Dictionary"
   ]
  },
  {
   "cell_type": "markdown",
   "id": "e1c2252a",
   "metadata": {},
   "source": [
    "Key---->Value"
   ]
  },
  {
   "cell_type": "code",
   "execution_count": 31,
   "id": "4bf8afb2",
   "metadata": {},
   "outputs": [
    {
     "name": "stdout",
     "output_type": "stream",
     "text": [
      "{'planet': 'earth', 'person': 'yaman', 'age': 25, 'country': 'India'}\n"
     ]
    },
    {
     "data": {
      "text/plain": [
       "dict"
      ]
     },
     "execution_count": 31,
     "metadata": {},
     "output_type": "execute_result"
    }
   ],
   "source": [
    "my_dict = {'planet':'earth','person':'yaman','age':25,'country':'India'}\n",
    "print(my_dict)\n",
    "type(my_dict)"
   ]
  },
  {
   "cell_type": "code",
   "execution_count": 35,
   "id": "1da0fab2",
   "metadata": {},
   "outputs": [
    {
     "name": "stdout",
     "output_type": "stream",
     "text": [
      "yaman\n",
      "India\n",
      "25\n"
     ]
    }
   ],
   "source": [
    "print(my_dict['person'])\n",
    "print(my_dict['country'])\n",
    "print(my_dict['age'])"
   ]
  },
  {
   "cell_type": "markdown",
   "id": "383b9051",
   "metadata": {},
   "source": [
    "Dictionary ---> does not allow duplicate values"
   ]
  },
  {
   "cell_type": "code",
   "execution_count": 37,
   "id": "7aa25e05",
   "metadata": {},
   "outputs": [],
   "source": [
    "my_dict ={'red':'apple','yellow':'mango','black':'grapes','red':'apple'}"
   ]
  },
  {
   "cell_type": "code",
   "execution_count": 38,
   "id": "0772026b",
   "metadata": {},
   "outputs": [
    {
     "data": {
      "text/plain": [
       "{'red': 'apple', 'yellow': 'mango', 'black': 'grapes'}"
      ]
     },
     "execution_count": 38,
     "metadata": {},
     "output_type": "execute_result"
    }
   ],
   "source": [
    "my_dict"
   ]
  },
  {
   "cell_type": "code",
   "execution_count": null,
   "id": "10df8551",
   "metadata": {},
   "outputs": [],
   "source": []
  }
 ],
 "metadata": {
  "kernelspec": {
   "display_name": "Python 3 (ipykernel)",
   "language": "python",
   "name": "python3"
  },
  "language_info": {
   "codemirror_mode": {
    "name": "ipython",
    "version": 3
   },
   "file_extension": ".py",
   "mimetype": "text/x-python",
   "name": "python",
   "nbconvert_exporter": "python",
   "pygments_lexer": "ipython3",
   "version": "3.9.12"
  }
 },
 "nbformat": 4,
 "nbformat_minor": 5
}
