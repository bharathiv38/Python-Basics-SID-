{
 "cells": [
  {
   "cell_type": "markdown",
   "id": "10563f08",
   "metadata": {},
   "source": [
    "Loops\n",
    "\n",
    "1. For\n",
    "\n",
    "2. While"
   ]
  },
  {
   "cell_type": "markdown",
   "id": "96020c3a",
   "metadata": {},
   "source": [
    "### For Loops"
   ]
  },
  {
   "cell_type": "code",
   "execution_count": 2,
   "id": "7f2f2e6f",
   "metadata": {},
   "outputs": [
    {
     "name": "stdout",
     "output_type": "stream",
     "text": [
      "Enter the price of the laptop: 20000\n",
      "Enter the price of the laptop: 10000\n",
      "Enter the price of the laptop: 30000\n",
      "Enter the price of the laptop: 40000\n",
      "Enter the price of the laptop: 60000\n"
     ]
    }
   ],
   "source": [
    "laptop1 = int(input('Enter the price of the laptop: '))\n",
    "laptop2 = int(input('Enter the price of the laptop: '))\n",
    "laptop3 = int(input('Enter the price of the laptop: '))\n",
    "laptop4 = int(input('Enter the price of the laptop: '))\n",
    "laptop5 = int(input('Enter the price of the laptop: '))"
   ]
  },
  {
   "cell_type": "code",
   "execution_count": 3,
   "id": "e5d57a91",
   "metadata": {},
   "outputs": [
    {
     "name": "stdout",
     "output_type": "stream",
     "text": [
      "Enter the price of the laptop: 20000\n",
      "Enter the price of the laptop: 30000\n",
      "Enter the price of the laptop: 40000\n",
      "Enter the price of the laptop: 50000\n",
      "Enter the price of the laptop: 60000\n"
     ]
    }
   ],
   "source": [
    "for i in range(5):\n",
    "    laptop_price = int(input('Enter the price of the laptop: '))"
   ]
  },
  {
   "cell_type": "code",
   "execution_count": 6,
   "id": "07583ebc",
   "metadata": {},
   "outputs": [
    {
     "name": "stdout",
     "output_type": "stream",
     "text": [
      "50\n",
      "100\n",
      "150\n",
      "200\n"
     ]
    }
   ],
   "source": [
    "numbers = [50,100,150,200]\n",
    "\n",
    "for i in numbers:\n",
    "    print(i)\n"
   ]
  },
  {
   "cell_type": "markdown",
   "id": "71212c4f",
   "metadata": {},
   "source": [
    "### While Loop"
   ]
  },
  {
   "cell_type": "markdown",
   "id": "758b305b",
   "metadata": {},
   "source": [
    "Conditions: Statement is true"
   ]
  },
  {
   "cell_type": "code",
   "execution_count": 7,
   "id": "89199d6b",
   "metadata": {},
   "outputs": [
    {
     "name": "stdout",
     "output_type": "stream",
     "text": [
      "0\n",
      "1\n",
      "2\n",
      "3\n",
      "4\n",
      "5\n",
      "6\n",
      "7\n",
      "8\n",
      "9\n"
     ]
    }
   ],
   "source": [
    "i = 0\n",
    "\n",
    "while i  < 10:\n",
    "    print(i)\n",
    "    i += 1"
   ]
  },
  {
   "cell_type": "code",
   "execution_count": 8,
   "id": "e9805de8",
   "metadata": {},
   "outputs": [
    {
     "name": "stdout",
     "output_type": "stream",
     "text": [
      "20\n",
      "21\n",
      "22\n",
      "23\n",
      "24\n",
      "25\n",
      "26\n",
      "27\n",
      "28\n",
      "29\n",
      "30\n",
      "31\n",
      "32\n",
      "33\n",
      "34\n",
      "35\n",
      "36\n",
      "37\n",
      "38\n",
      "39\n",
      "40\n",
      "41\n",
      "42\n",
      "43\n",
      "44\n",
      "45\n",
      "46\n",
      "47\n",
      "48\n",
      "49\n",
      "50\n",
      "51\n",
      "52\n",
      "53\n",
      "54\n",
      "55\n",
      "56\n",
      "57\n",
      "58\n",
      "59\n",
      "60\n",
      "61\n",
      "62\n",
      "63\n",
      "64\n",
      "65\n",
      "66\n",
      "67\n",
      "68\n",
      "69\n",
      "70\n",
      "71\n",
      "72\n",
      "73\n",
      "74\n",
      "75\n",
      "76\n",
      "77\n",
      "78\n",
      "79\n",
      "80\n",
      "81\n",
      "82\n",
      "83\n",
      "84\n",
      "85\n",
      "86\n",
      "87\n",
      "88\n",
      "89\n",
      "90\n",
      "91\n",
      "92\n",
      "93\n",
      "94\n",
      "95\n",
      "96\n",
      "97\n",
      "98\n",
      "99\n"
     ]
    }
   ],
   "source": [
    "a = 20\n",
    "\n",
    "while a < 100:\n",
    "    print(a)\n",
    "    a += 1\n",
    "    "
   ]
  },
  {
   "cell_type": "code",
   "execution_count": 11,
   "id": "5306b2c7",
   "metadata": {},
   "outputs": [
    {
     "name": "stdout",
     "output_type": "stream",
     "text": [
      "17\n",
      "18\n",
      "19\n",
      "20\n",
      "21\n",
      "22\n",
      "23\n",
      "24\n",
      "25\n",
      "26\n",
      "27\n",
      "28\n",
      "29\n"
     ]
    }
   ],
   "source": [
    "i = 17\n",
    "\n",
    "while i < 30:\n",
    "    print(i)\n",
    "    i += 1"
   ]
  },
  {
   "cell_type": "code",
   "execution_count": null,
   "id": "70c75a50",
   "metadata": {},
   "outputs": [],
   "source": []
  }
 ],
 "metadata": {
  "kernelspec": {
   "display_name": "Python 3 (ipykernel)",
   "language": "python",
   "name": "python3"
  },
  "language_info": {
   "codemirror_mode": {
    "name": "ipython",
    "version": 3
   },
   "file_extension": ".py",
   "mimetype": "text/x-python",
   "name": "python",
   "nbconvert_exporter": "python",
   "pygments_lexer": "ipython3",
   "version": "3.9.12"
  }
 },
 "nbformat": 4,
 "nbformat_minor": 5
}
