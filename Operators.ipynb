{
 "cells": [
  {
   "cell_type": "markdown",
   "id": "871af3f6",
   "metadata": {},
   "source": [
    "# Operators"
   ]
  },
  {
   "cell_type": "markdown",
   "id": "97a8e822",
   "metadata": {},
   "source": [
    "1. Arithmetic Operators\n",
    "\n",
    "2. Assignment Operators\n",
    "\n",
    "3. Comparison Operators\n",
    "\n",
    "4. Logical Operators\n",
    "\n",
    "5. Identity Operators\n",
    "\n",
    "6. Membership Operators"
   ]
  },
  {
   "cell_type": "markdown",
   "id": "b5911778",
   "metadata": {},
   "source": [
    "### Arithmetic Operators"
   ]
  },
  {
   "cell_type": "code",
   "execution_count": 2,
   "id": "a01bc285",
   "metadata": {},
   "outputs": [
    {
     "name": "stdout",
     "output_type": "stream",
     "text": [
      "Sum = 30\n",
      "Difference =  10\n",
      "Multiplication =  200\n",
      "Quo = 2.0\n",
      "exponenet = 10240000000000\n",
      "Modulus = 0\n"
     ]
    }
   ],
   "source": [
    "num_1 = 20\n",
    "num_2 = 10\n",
    "\n",
    "# addition operators\n",
    "sum = num_1 + num_2\n",
    "print(\"Sum =\",sum)\n",
    "\n",
    "#subtraction\n",
    "diff = num_1 - num_2\n",
    "print(\"Difference = \", diff)\n",
    "\n",
    "#multiplication\n",
    "mult = num_1 * num_2\n",
    "print(\"Multiplication = \",mult)\n",
    "\n",
    "#division\n",
    "div = num_1/num_2\n",
    "print(\"Quo =\",div)\n",
    "\n",
    "#exponent\n",
    "exp = num_1 ** num_2\n",
    "print(\"exponenet =\",exp)\n",
    "\n",
    "#modulus\n",
    "mod = num_1 %  num_2\n",
    "print(\"Modulus =\",mod)"
   ]
  },
  {
   "cell_type": "markdown",
   "id": "c911695b",
   "metadata": {},
   "source": [
    "### Assignment Operators"
   ]
  },
  {
   "cell_type": "markdown",
   "id": "597717ed",
   "metadata": {},
   "source": [
    "+=\n",
    "\n",
    "-=\n",
    "\n",
    "*=\n",
    "\n",
    "/=\n",
    "\n",
    "**=\n",
    "\n",
    "%="
   ]
  },
  {
   "cell_type": "code",
   "execution_count": 3,
   "id": "407afa8f",
   "metadata": {},
   "outputs": [
    {
     "name": "stdout",
     "output_type": "stream",
     "text": [
      "5\n"
     ]
    }
   ],
   "source": [
    "a = 5\n",
    "print(a)"
   ]
  },
  {
   "cell_type": "code",
   "execution_count": 4,
   "id": "b72615d5",
   "metadata": {},
   "outputs": [
    {
     "name": "stdout",
     "output_type": "stream",
     "text": [
      "10\n"
     ]
    }
   ],
   "source": [
    "a = 5\n",
    "a += 5   #a = a+5\n",
    "\n",
    "print(a)"
   ]
  },
  {
   "cell_type": "code",
   "execution_count": 5,
   "id": "d4f78bbb",
   "metadata": {},
   "outputs": [
    {
     "name": "stdout",
     "output_type": "stream",
     "text": [
      "3\n"
     ]
    }
   ],
   "source": [
    "b = 5\n",
    "b -= 2 #b = b-2\n",
    "print(b)"
   ]
  },
  {
   "cell_type": "code",
   "execution_count": 6,
   "id": "71e1f7f2",
   "metadata": {},
   "outputs": [
    {
     "name": "stdout",
     "output_type": "stream",
     "text": [
      "24\n"
     ]
    }
   ],
   "source": [
    "c = 8\n",
    "c *= 3\n",
    "print(c)"
   ]
  },
  {
   "cell_type": "markdown",
   "id": "c08404e7",
   "metadata": {},
   "source": [
    "### Comparison Operators"
   ]
  },
  {
   "cell_type": "code",
   "execution_count": 7,
   "id": "b3de2dcc",
   "metadata": {},
   "outputs": [
    {
     "name": "stdout",
     "output_type": "stream",
     "text": [
      "False\n",
      "True\n",
      "False\n",
      "True\n",
      "False\n",
      "True\n"
     ]
    }
   ],
   "source": [
    "a = 5\n",
    "b= 10\n",
    "print(a == b)    #equal to comparison operator\n",
    "print(a != b)    #not equal\n",
    "print(a > b)     #greater\n",
    "print(a < b)     #lesser\n",
    "print(a >= b)\n",
    "print( a <= b)"
   ]
  },
  {
   "cell_type": "markdown",
   "id": "1d07a526",
   "metadata": {},
   "source": [
    "### Logical Operators"
   ]
  },
  {
   "cell_type": "markdown",
   "id": "925bc2a6",
   "metadata": {},
   "source": [
    "and\n",
    "or\n",
    "not "
   ]
  },
  {
   "cell_type": "code",
   "execution_count": 10,
   "id": "ba3bd7bd",
   "metadata": {},
   "outputs": [
    {
     "name": "stdout",
     "output_type": "stream",
     "text": [
      "False\n",
      "True\n",
      "False\n"
     ]
    }
   ],
   "source": [
    "a = 10\n",
    "print(a > 20 and a > 5)\n",
    "print ( a > 20 or a >5)\n",
    "print( not(a > 8 and a > 5))"
   ]
  },
  {
   "cell_type": "markdown",
   "id": "5e14ae43",
   "metadata": {},
   "source": [
    "### Identity Operators"
   ]
  },
  {
   "cell_type": "markdown",
   "id": "6d5909ba",
   "metadata": {},
   "source": [
    "Is & Is not"
   ]
  },
  {
   "cell_type": "code",
   "execution_count": 11,
   "id": "cfb77c99",
   "metadata": {},
   "outputs": [
    {
     "name": "stdout",
     "output_type": "stream",
     "text": [
      "True\n"
     ]
    }
   ],
   "source": [
    "x = 5\n",
    "y = 5\n",
    "print(x is y)"
   ]
  },
  {
   "cell_type": "code",
   "execution_count": 14,
   "id": "68829169",
   "metadata": {},
   "outputs": [
    {
     "name": "stdout",
     "output_type": "stream",
     "text": [
      "False\n"
     ]
    }
   ],
   "source": [
    "x= 5\n",
    "y = 10\n",
    "print(y is x)"
   ]
  },
  {
   "cell_type": "code",
   "execution_count": 16,
   "id": "0d5b8b02",
   "metadata": {},
   "outputs": [
    {
     "name": "stdout",
     "output_type": "stream",
     "text": [
      "True\n"
     ]
    }
   ],
   "source": [
    "x = 5\n",
    "y = 10\n",
    "print(x is not y)"
   ]
  },
  {
   "cell_type": "markdown",
   "id": "6cfb0326",
   "metadata": {},
   "source": [
    "### Membership Operators"
   ]
  },
  {
   "cell_type": "markdown",
   "id": "dc65e4b8",
   "metadata": {},
   "source": [
    "in & not in"
   ]
  },
  {
   "cell_type": "code",
   "execution_count": 18,
   "id": "96093191",
   "metadata": {},
   "outputs": [
    {
     "name": "stdout",
     "output_type": "stream",
     "text": [
      "True\n",
      "False\n"
     ]
    }
   ],
   "source": [
    "a = 5\n",
    "b = 10\n",
    "\n",
    "c = [1,2,3,4,5]\n",
    "\n",
    "print(a in c)\n",
    "print(b in c)"
   ]
  },
  {
   "cell_type": "code",
   "execution_count": 19,
   "id": "23a5dba6",
   "metadata": {},
   "outputs": [
    {
     "name": "stdout",
     "output_type": "stream",
     "text": [
      "False\n",
      "True\n"
     ]
    }
   ],
   "source": [
    "a = 5\n",
    "b = 10\n",
    "\n",
    "c = [1,2,3,4,5]\n",
    "\n",
    "print(a not in c)\n",
    "print(b not in c)"
   ]
  },
  {
   "cell_type": "code",
   "execution_count": null,
   "id": "4fd327b9",
   "metadata": {},
   "outputs": [],
   "source": []
  }
 ],
 "metadata": {
  "kernelspec": {
   "display_name": "Python 3 (ipykernel)",
   "language": "python",
   "name": "python3"
  },
  "language_info": {
   "codemirror_mode": {
    "name": "ipython",
    "version": 3
   },
   "file_extension": ".py",
   "mimetype": "text/x-python",
   "name": "python",
   "nbconvert_exporter": "python",
   "pygments_lexer": "ipython3",
   "version": "3.9.12"
  }
 },
 "nbformat": 4,
 "nbformat_minor": 5
}
