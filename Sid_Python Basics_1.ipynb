{
 "cells": [
  {
   "cell_type": "markdown",
   "id": "d4f639f3",
   "metadata": {},
   "source": [
    "Programming language used in Machine Learning\n",
    "\n",
    "1.Python\n",
    "\n",
    "2.R\n"
   ]
  },
  {
   "cell_type": "markdown",
   "id": "7c3e4f94",
   "metadata": {},
   "source": [
    "# Print Functions"
   ]
  },
  {
   "cell_type": "code",
   "execution_count": 1,
   "id": "8fad7915",
   "metadata": {},
   "outputs": [
    {
     "name": "stdout",
     "output_type": "stream",
     "text": [
      "Machine Learning\n"
     ]
    }
   ],
   "source": [
    "print('Machine Learning')"
   ]
  },
  {
   "cell_type": "code",
   "execution_count": 3,
   "id": "88d5bb3e",
   "metadata": {},
   "outputs": [
    {
     "name": "stdout",
     "output_type": "stream",
     "text": [
      "Machine Learning Project\n"
     ]
    }
   ],
   "source": [
    "print('Machine Learning' + ' Project')"
   ]
  },
  {
   "cell_type": "code",
   "execution_count": 4,
   "id": "4f57091f",
   "metadata": {},
   "outputs": [
    {
     "name": "stdout",
     "output_type": "stream",
     "text": [
      "8\n"
     ]
    }
   ],
   "source": [
    "print(8)"
   ]
  },
  {
   "cell_type": "code",
   "execution_count": 5,
   "id": "a71c0ff1",
   "metadata": {},
   "outputs": [
    {
     "name": "stdout",
     "output_type": "stream",
     "text": [
      "11\n"
     ]
    }
   ],
   "source": [
    "print(8+3)"
   ]
  },
  {
   "cell_type": "markdown",
   "id": "d4148dc6",
   "metadata": {},
   "source": [
    "# Basic Data Types in Python"
   ]
  },
  {
   "cell_type": "markdown",
   "id": "50e1a0ba",
   "metadata": {},
   "source": [
    "1.int             #integer\n",
    "\n",
    "2.float          #float\n",
    "\n",
    "3.str            #string"
   ]
  },
  {
   "cell_type": "code",
   "execution_count": 6,
   "id": "6bc95e79",
   "metadata": {},
   "outputs": [
    {
     "data": {
      "text/plain": [
       "int"
      ]
     },
     "execution_count": 6,
     "metadata": {},
     "output_type": "execute_result"
    }
   ],
   "source": [
    "type(8)"
   ]
  },
  {
   "cell_type": "code",
   "execution_count": 7,
   "id": "8a583b4d",
   "metadata": {},
   "outputs": [
    {
     "data": {
      "text/plain": [
       "float"
      ]
     },
     "execution_count": 7,
     "metadata": {},
     "output_type": "execute_result"
    }
   ],
   "source": [
    "type(5.3)"
   ]
  },
  {
   "cell_type": "code",
   "execution_count": 8,
   "id": "174df6b2",
   "metadata": {},
   "outputs": [
    {
     "data": {
      "text/plain": [
       "str"
      ]
     },
     "execution_count": 8,
     "metadata": {},
     "output_type": "execute_result"
    }
   ],
   "source": [
    "type('Machine Learning')"
   ]
  },
  {
   "cell_type": "markdown",
   "id": "5d7f98ec",
   "metadata": {},
   "source": [
    "# Constants & Variables"
   ]
  },
  {
   "cell_type": "code",
   "execution_count": 9,
   "id": "6cd53fcb",
   "metadata": {},
   "outputs": [
    {
     "name": "stdout",
     "output_type": "stream",
     "text": [
      "Ironman\n"
     ]
    }
   ],
   "source": [
    "superhero = 'Ironman'\n",
    "print(superhero)"
   ]
  },
  {
   "cell_type": "code",
   "execution_count": 10,
   "id": "57681fca",
   "metadata": {},
   "outputs": [
    {
     "name": "stdout",
     "output_type": "stream",
     "text": [
      "Captain America\n"
     ]
    }
   ],
   "source": [
    "superhero = 'Captain America'\n",
    "print(superhero)"
   ]
  },
  {
   "cell_type": "code",
   "execution_count": 12,
   "id": "05a7040c",
   "metadata": {},
   "outputs": [
    {
     "name": "stdout",
     "output_type": "stream",
     "text": [
      "Ironman\n",
      "Captain America\n",
      "Batman\n"
     ]
    }
   ],
   "source": [
    "hero1,hero2,hero3 = 'Ironman','Captain America' ,'Batman'\n",
    "print(hero1)\n",
    "print(hero2)\n",
    "print(hero3)"
   ]
  },
  {
   "cell_type": "code",
   "execution_count": 13,
   "id": "8959bc6f",
   "metadata": {},
   "outputs": [
    {
     "name": "stdout",
     "output_type": "stream",
     "text": [
      "23\n",
      "23\n",
      "23\n"
     ]
    }
   ],
   "source": [
    "# multiple variable to same data\n",
    "X = Y = Z = 23\n",
    "print(X)\n",
    "print(Y)\n",
    "print(Z)"
   ]
  },
  {
   "cell_type": "markdown",
   "id": "7dd2ac57",
   "metadata": {},
   "source": [
    "# Input"
   ]
  },
  {
   "cell_type": "code",
   "execution_count": 15,
   "id": "97cf044a",
   "metadata": {},
   "outputs": [
    {
     "name": "stdout",
     "output_type": "stream",
     "text": [
      "Enter the first number : 1\n",
      "Enter the second number : 1\n",
      "11\n"
     ]
    }
   ],
   "source": [
    "number_1 = input(\"Enter the first number : \")\n",
    "number_2 = input(\"Enter the second number : \")\n",
    "\n",
    "sum = number_1 + number_2\n",
    "print(sum)"
   ]
  },
  {
   "cell_type": "code",
   "execution_count": 16,
   "id": "e4796e50",
   "metadata": {},
   "outputs": [
    {
     "name": "stdout",
     "output_type": "stream",
     "text": [
      "Enter the first number : 1\n",
      "Enter the second number : 1\n",
      "2\n"
     ]
    }
   ],
   "source": [
    "number_1 = int(input(\"Enter the first number : \"))\n",
    "number_2 = int(input(\"Enter the second number : \"))\n",
    "\n",
    "sum = number_1 + number_2\n",
    "print(sum)"
   ]
  },
  {
   "cell_type": "code",
   "execution_count": 17,
   "id": "949e1999",
   "metadata": {},
   "outputs": [
    {
     "data": {
      "text/plain": [
       "int"
      ]
     },
     "execution_count": 17,
     "metadata": {},
     "output_type": "execute_result"
    }
   ],
   "source": [
    "# changing the datatype in python\n",
    "num = 5\n",
    "type(num)"
   ]
  },
  {
   "cell_type": "code",
   "execution_count": 19,
   "id": "2f091632",
   "metadata": {},
   "outputs": [
    {
     "name": "stdout",
     "output_type": "stream",
     "text": [
      "5.0\n"
     ]
    }
   ],
   "source": [
    "num = 5\n",
    "print(float(num))"
   ]
  },
  {
   "cell_type": "code",
   "execution_count": null,
   "id": "b973a640",
   "metadata": {},
   "outputs": [],
   "source": []
  }
 ],
 "metadata": {
  "kernelspec": {
   "display_name": "Python 3 (ipykernel)",
   "language": "python",
   "name": "python3"
  },
  "language_info": {
   "codemirror_mode": {
    "name": "ipython",
    "version": 3
   },
   "file_extension": ".py",
   "mimetype": "text/x-python",
   "name": "python",
   "nbconvert_exporter": "python",
   "pygments_lexer": "ipython3",
   "version": "3.9.12"
  }
 },
 "nbformat": 4,
 "nbformat_minor": 5
}
